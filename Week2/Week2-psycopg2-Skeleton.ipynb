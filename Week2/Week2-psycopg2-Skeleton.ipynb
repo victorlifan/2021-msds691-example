{
 "cells": [
  {
   "cell_type": "code",
   "execution_count": 3,
   "metadata": {
    "ExecuteTime": {
     "end_time": "2020-10-17T20:01:12.207381Z",
     "start_time": "2020-10-17T20:01:12.190039Z"
    }
   },
   "outputs": [],
   "source": [
    "import psycopg2\n",
    "from user_input import * "
   ]
  },
  {
   "cell_type": "markdown",
   "metadata": {},
   "source": [
    "## Connect to a database\n",
    "if you have a password, add password = \"password\""
   ]
  },
  {
   "cell_type": "code",
   "execution_count": 31,
   "metadata": {},
   "outputs": [],
   "source": [
    "conn = psycopg2.connect(host = host, port = port, database = database, user= user, password = '81872561')"
   ]
  },
  {
   "cell_type": "markdown",
   "metadata": {
    "ExecuteTime": {
     "end_time": "2020-10-17T19:41:29.419780Z",
     "start_time": "2020-10-17T19:41:29.413016Z"
    }
   },
   "source": [
    "## Open a cursor to perform database operations"
   ]
  },
  {
   "cell_type": "code",
   "execution_count": 32,
   "metadata": {
    "ExecuteTime": {
     "end_time": "2020-10-17T20:30:34.834309Z",
     "start_time": "2020-10-17T20:30:34.831791Z"
    }
   },
   "outputs": [],
   "source": [
    "cur = conn.cursor()"
   ]
  },
  {
   "cell_type": "markdown",
   "metadata": {},
   "source": [
    "## Query the database and obtain data as Python objects"
   ]
  },
  {
   "cell_type": "code",
   "execution_count": 33,
   "metadata": {},
   "outputs": [
    {
     "data": {
      "text/plain": [
       "60190007"
      ]
     },
     "execution_count": 33,
     "metadata": {},
     "output_type": "execute_result"
    }
   ],
   "source": [
    "site_id"
   ]
  },
  {
   "cell_type": "code",
   "execution_count": 34,
   "metadata": {},
   "outputs": [
    {
     "data": {
      "text/plain": [
       "'select * from epa_site_location where site_id = 60190007'"
      ]
     },
     "execution_count": 34,
     "metadata": {},
     "output_type": "execute_result"
    }
   ],
   "source": [
    "query = f'''select * from epa_site_location where site_id = {site_id}'''\n",
    "query"
   ]
  },
  {
   "cell_type": "code",
   "execution_count": 35,
   "metadata": {
    "ExecuteTime": {
     "end_time": "2020-10-17T20:30:35.654296Z",
     "start_time": "2020-10-17T20:30:35.651931Z"
    }
   },
   "outputs": [],
   "source": [
    "cur.execute(query)"
   ]
  },
  {
   "cell_type": "code",
   "execution_count": 36,
   "metadata": {
    "ExecuteTime": {
     "end_time": "2020-10-17T20:09:45.263459Z",
     "start_time": "2020-10-17T20:09:45.260257Z"
    }
   },
   "outputs": [
    {
     "data": {
      "text/plain": [
       "[(60190007, 'Fresno-Drummond', 36.705475, -119.74133, 'Fresno', 'California')]"
      ]
     },
     "execution_count": 36,
     "metadata": {},
     "output_type": "execute_result"
    }
   ],
   "source": [
    "cur.fetchall()"
   ]
  },
  {
   "cell_type": "markdown",
   "metadata": {},
   "source": [
    "## If your queries include updates such as insert, delete, or update, you need to commit (no autocommit) or  to cancel,  rollback"
   ]
  },
  {
   "cell_type": "markdown",
   "metadata": {},
   "source": [
    "### Increment site_id by 1 for \"site_name\"."
   ]
  },
  {
   "cell_type": "code",
   "execution_count": 37,
   "metadata": {
    "ExecuteTime": {
     "end_time": "2020-10-17T20:09:46.432996Z",
     "start_time": "2020-10-17T20:09:46.429755Z"
    }
   },
   "outputs": [
    {
     "data": {
      "text/plain": [
       "[(60190007, 'Fresno-Drummond', 36.705475, -119.74133, 'Fresno', 'California')]"
      ]
     },
     "execution_count": 37,
     "metadata": {},
     "output_type": "execute_result"
    }
   ],
   "source": [
    "cur.execute(f'''SELECT * FROM epa_site_location WHERE site_name = \\'{site_name}\\'''')\n",
    "cur.fetchall()"
   ]
  },
  {
   "cell_type": "code",
   "execution_count": 58,
   "metadata": {
    "ExecuteTime": {
     "end_time": "2020-10-17T20:09:26.268271Z",
     "start_time": "2020-10-17T20:09:26.264969Z"
    }
   },
   "outputs": [
    {
     "data": {
      "text/plain": [
       "[(60190007,)]"
      ]
     },
     "execution_count": 58,
     "metadata": {},
     "output_type": "execute_result"
    }
   ],
   "source": [
    "cur.execute(f'''SELECT site_id FROM epa_site_location WHERE site_name = \\'{site_name}\\'''')\n",
    "cur.fetchall()"
   ]
  },
  {
   "cell_type": "code",
   "execution_count": 59,
   "metadata": {
    "ExecuteTime": {
     "end_time": "2020-10-17T20:09:25.342184Z",
     "start_time": "2020-10-17T20:09:25.338703Z"
    }
   },
   "outputs": [
    {
     "data": {
      "text/plain": [
       "[(60190008,)]"
      ]
     },
     "execution_count": 59,
     "metadata": {},
     "output_type": "execute_result"
    }
   ],
   "source": [
    "cur.execute(f'''update epa_site_location SET site_id = site_id +1 where site_name = \\'{site_name}\\'''')\n",
    "cur.execute(f'''SELECT site_id FROM epa_site_location WHERE site_name = \\'{site_name}\\'''')\n",
    "cur.fetchall()\n",
    "#conn.rollback()"
   ]
  },
  {
   "cell_type": "markdown",
   "metadata": {},
   "source": [
    "## Close communication with the database"
   ]
  },
  {
   "cell_type": "code",
   "execution_count": 60,
   "metadata": {
    "ExecuteTime": {
     "end_time": "2020-10-17T20:09:41.061096Z",
     "start_time": "2020-10-17T20:09:41.058613Z"
    }
   },
   "outputs": [],
   "source": [
    "cur.close()"
   ]
  },
  {
   "cell_type": "code",
   "execution_count": 61,
   "metadata": {
    "ExecuteTime": {
     "end_time": "2020-10-17T20:09:41.726436Z",
     "start_time": "2020-10-17T20:09:41.723097Z"
    }
   },
   "outputs": [],
   "source": [
    "conn.close()"
   ]
  },
  {
   "cell_type": "code",
   "execution_count": 62,
   "metadata": {},
   "outputs": [
    {
     "data": {
      "text/plain": [
       "<connection object at 0x7fef918952e0; dsn: 'user=postgres password=xxx dbname=msds691 host=127.0.0.1 port=5432', closed: 1>"
      ]
     },
     "execution_count": 62,
     "metadata": {},
     "output_type": "execute_result"
    }
   ],
   "source": [
    "conn"
   ]
  },
  {
   "cell_type": "code",
   "execution_count": null,
   "metadata": {},
   "outputs": [],
   "source": []
  }
 ],
 "metadata": {
  "kernelspec": {
   "display_name": "Python 3 (ipykernel)",
   "language": "python",
   "name": "python3"
  },
  "language_info": {
   "codemirror_mode": {
    "name": "ipython",
    "version": 3
   },
   "file_extension": ".py",
   "mimetype": "text/x-python",
   "name": "python",
   "nbconvert_exporter": "python",
   "pygments_lexer": "ipython3",
   "version": "3.8.11"
  },
  "varInspector": {
   "cols": {
    "lenName": 16,
    "lenType": 16,
    "lenVar": 40
   },
   "kernels_config": {
    "python": {
     "delete_cmd_postfix": "",
     "delete_cmd_prefix": "del ",
     "library": "var_list.py",
     "varRefreshCmd": "print(var_dic_list())"
    },
    "r": {
     "delete_cmd_postfix": ") ",
     "delete_cmd_prefix": "rm(",
     "library": "var_list.r",
     "varRefreshCmd": "cat(var_dic_list()) "
    }
   },
   "types_to_exclude": [
    "module",
    "function",
    "builtin_function_or_method",
    "instance",
    "_Feature"
   ],
   "window_display": false
  }
 },
 "nbformat": 4,
 "nbformat_minor": 4
}
